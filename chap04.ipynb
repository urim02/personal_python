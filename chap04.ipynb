{
 "cells": [
  {
   "cell_type": "markdown",
   "metadata": {},
   "source": [
    "## 04 반복문"
   ]
  },
  {
   "cell_type": "code",
   "execution_count": 1,
   "metadata": {},
   "outputs": [
    {
     "name": "stdout",
     "output_type": "stream",
     "text": [
      "273\n",
      "43\n",
      "53\n",
      "32\n",
      "10\n"
     ]
    }
   ],
   "source": [
    "array = [273, 43, 53, 32, 10]\n",
    "\n",
    "for a in array:\n",
    "    print(a)"
   ]
  },
  {
   "cell_type": "code",
   "execution_count": 5,
   "metadata": {},
   "outputs": [
    {
     "name": "stdout",
     "output_type": "stream",
     "text": [
      "[1, 2, 3]\n",
      "[1, 2, 3]\n",
      "[1, 2, 3]\n",
      "[4, 5, 6, 7]\n",
      "[4, 5, 6, 7]\n",
      "[4, 5, 6, 7]\n",
      "[4, 5, 6, 7]\n",
      "[8, 9]\n",
      "[8, 9]\n"
     ]
    }
   ],
   "source": [
    "list_of_list = [\n",
    "    [1, 2, 3],\n",
    "    [4, 5, 6, 7],\n",
    "    [8, 9],\n",
    "]\n",
    "\n",
    "for items in list_of_list:\n",
    "    for item in items:\n",
    "        print(items)"
   ]
  },
  {
   "cell_type": "code",
   "execution_count": 30,
   "metadata": {},
   "outputs": [
    {
     "name": "stdout",
     "output_type": "stream",
     "text": [
      "1\n",
      "2\n",
      "3\n",
      "4\n",
      "5\n",
      "6\n",
      "7\n",
      "8\n",
      "9\n"
     ]
    }
   ],
   "source": [
    "list_of_list = [\n",
    "    [1, 2, 3],\n",
    "    [4, 5, 6, 7],\n",
    "    [8, 9],\n",
    "]\n",
    "\n",
    "for itmes in list_of_list:\n",
    "    for item in itmes:\n",
    "        print(item)"
   ]
  },
  {
   "cell_type": "code",
   "execution_count": 7,
   "metadata": {},
   "outputs": [
    {
     "name": "stdout",
     "output_type": "stream",
     "text": [
      "1 2 3 4\n"
     ]
    }
   ],
   "source": [
    "a = [1, 2, 3, 4]\n",
    "\n",
    "print(*a)"
   ]
  },
  {
   "cell_type": "markdown",
   "metadata": {},
   "source": [
    "p214 - 215"
   ]
  },
  {
   "cell_type": "code",
   "execution_count": 8,
   "metadata": {},
   "outputs": [
    {
     "name": "stdout",
     "output_type": "stream",
     "text": [
      " - 100 이상의 수: 273\n",
      " - 100 이상의 수: 103\n",
      " - 100 이상의 수: 800\n"
     ]
    }
   ],
   "source": [
    "#2\n",
    "numbers = [273, 103, 5, 32, 65, 9, 72, 800, 99]\n",
    "\n",
    "for number in numbers:\n",
    "    if number >= 100:\n",
    "        print(\" - 100 이상의 수:\", number)"
   ]
  },
  {
   "cell_type": "code",
   "execution_count": 9,
   "metadata": {},
   "outputs": [
    {
     "name": "stdout",
     "output_type": "stream",
     "text": [
      "273 는 홀수 입니다.\n",
      "103 는 홀수 입니다.\n",
      "5 는 홀수 입니다.\n",
      "32 는 짝수입니다.\n",
      "65 는 홀수 입니다.\n",
      "9 는 홀수 입니다.\n",
      "72 는 짝수입니다.\n",
      "800 는 짝수입니다.\n",
      "99 는 홀수 입니다.\n"
     ]
    }
   ],
   "source": [
    "#3\n",
    "numbers = [273, 103, 5, 32, 65, 9, 72, 800, 99]\n",
    "\n",
    "for number in numbers:\n",
    "    if number % 2 == 0:\n",
    "        print(f\"{number} 는 짝수입니다.\")\n",
    "\n",
    "    else:\n",
    "        print(f\"{number} 는 홀수 입니다.\")\n",
    "    "
   ]
  },
  {
   "cell_type": "code",
   "execution_count": 14,
   "metadata": {},
   "outputs": [
    {
     "name": "stdout",
     "output_type": "stream",
     "text": [
      "273 는 3 자릿수입니다.\n",
      "103 는 3 자릿수입니다.\n",
      "5 는 1 자릿수입니다.\n",
      "32 는 2 자릿수입니다.\n",
      "65 는 2 자릿수입니다.\n",
      "9 는 1 자릿수입니다.\n",
      "72 는 2 자릿수입니다.\n",
      "800 는 3 자릿수입니다.\n",
      "99 는 2 자릿수입니다.\n"
     ]
    }
   ],
   "source": [
    "#3\n",
    "numbers = [273, 103, 5, 32, 65, 9, 72, 800, 99]\n",
    "\n",
    "# for numebr in numbers:\n",
    "#     if len(number) == 1:\n",
    "#         print(f\"{number} 는 1 자릿수입니다.\")\n",
    "#     elif len(number) == 2:\n",
    "#         print(f\"{number} 는 2 자릿수입니다.\")\n",
    "#     else:\n",
    "#         print(f\"{number} 는 3 자릿수입니다.\")\n",
    "\n",
    "for number in numbers:\n",
    "    print(number, \"는\", len(str(number)), \"자릿수입니다.\")"
   ]
  },
  {
   "cell_type": "code",
   "execution_count": 17,
   "metadata": {},
   "outputs": [
    {
     "name": "stdout",
     "output_type": "stream",
     "text": [
      "[[1, 4, 7], [2, 5, 5, 8], [3, 6, 9]]\n"
     ]
    }
   ],
   "source": [
    "#4\n",
    "numbers = [1, 2, 3, 4, 5, 5, 6, 7, 8, 9]\n",
    "output = [[], [], []]\n",
    "\n",
    "for number in numbers:\n",
    "    output[(number+2)%3].append(number)\n",
    "\n",
    "print(output)"
   ]
  },
  {
   "cell_type": "code",
   "execution_count": 3,
   "metadata": {},
   "outputs": [
    {
     "name": "stdout",
     "output_type": "stream",
     "text": [
      "i = 0, j = 1\n",
      "i = 1, j = 3\n",
      "i = 2, j = 5\n",
      "i = 3, j = 7\n",
      "[1, 4, 3, 16, 5, 36, 7, 64, 9]\n"
     ]
    }
   ],
   "source": [
    "#5\n",
    "numbers = [1, 2, 3, 4, 5, 6, 7, 8, 9]\n",
    "\n",
    "for i in range(0, len(numbers) // 2):\n",
    "    j = (i * 2) + 1\n",
    "    print(f\"i = {i}, j = {j}\")\n",
    "    numbers[j] = numbers[j] ** 2\n",
    "\n",
    "print(numbers)"
   ]
  },
  {
   "cell_type": "markdown",
   "metadata": {},
   "source": [
    "### 04-2 딕셔너리와 반복문"
   ]
  },
  {
   "cell_type": "code",
   "execution_count": 7,
   "metadata": {},
   "outputs": [
    {
     "name": "stdout",
     "output_type": "stream",
     "text": [
      "name: leekyoohyun\n",
      "age: 27\n",
      "\n",
      "residence:  Miguem\n"
     ]
    }
   ],
   "source": [
    "#dict01.py 딕셔너리 요소 접근\n",
    "dic = {\n",
    "    \"name\": \"leekyoohyun\",\n",
    "    \"age\" : \"27\",\n",
    "    \"school\" : \"hanyang university\",\n",
    "    \"major\" :\"Applied physics\",\n",
    "    \"residence\" : \"Bundang\"\n",
    "}\n",
    "\n",
    "print(\"name:\", dic[\"name\"])\n",
    "print(\"age:\", dic[\"age\"])\n",
    "print()\n",
    "\n",
    "dic[\"residence\"] = \"Miguem\"\n",
    "print(\"residence: \", dic[\"residence\"]) "
   ]
  },
  {
   "cell_type": "code",
   "execution_count": 9,
   "metadata": {},
   "outputs": [
    {
     "name": "stdout",
     "output_type": "stream",
     "text": [
      "요소 추가 이후: {'name': 'leekyoohyun', 'age': '27', 'school': 'hanyang university', 'major': 'Applied physics', 'residence': 'Miguem', 'friend': 'kohyourim'}\n"
     ]
    }
   ],
   "source": [
    "#dict02.py 딕셔너리 요소 추가\n",
    "# dic = {}\n",
    "# print(\"요소 추가 이전:\", dic)\n",
    "\n",
    "#요소 추가\n",
    "dic[\"friend\"] = \"kohyourim\"\n",
    "\n",
    "print(\"요소 추가 이후:\", dic)\n"
   ]
  },
  {
   "cell_type": "code",
   "execution_count": 10,
   "metadata": {},
   "outputs": [
    {
     "name": "stdout",
     "output_type": "stream",
     "text": [
      "요소 제거 이전: {'name': 'leekyoohyun', 'age': '27', 'school': 'hanyang university', 'major': 'Applied physics', 'residence': 'Miguem', 'friend': 'kohyourim'}\n",
      "요소 제거 이후: {'name': 'leekyoohyun', 'school': 'hanyang university', 'major': 'Applied physics', 'residence': 'Miguem', 'friend': 'kohyourim'}\n"
     ]
    }
   ],
   "source": [
    "#딕셔너리 요소 제거\n",
    "print(\"요소 제거 이전:\", dic)\n",
    "\n",
    "del dic[\"age\"]\n",
    "\n",
    "print(\"요소 제거 이후:\", dic)"
   ]
  },
  {
   "cell_type": "code",
   "execution_count": 18,
   "metadata": {},
   "outputs": [
    {
     "name": "stdout",
     "output_type": "stream",
     "text": [
      "{'name': 'leekyoohyun', 'school': 'hanyang university', 'major': 'Applied physics', 'residence': 'Miguem', 'friend': 'kohyourim'}\n",
      "name: leekyoohyun\n"
     ]
    }
   ],
   "source": [
    "#키가 존재하는지 확인하고 값에 접근하기\n",
    "print(dic)\n",
    "\n",
    "key = input(\"> 접근하고자 하는 키:\")\n",
    "\n",
    "if key in dic:\n",
    "    print(f\"{key}:\", dic[key])\n",
    "else:\n",
    "    print(\"존재하지 않는 키에 접근하고 있습니다.\")"
   ]
  },
  {
   "cell_type": "code",
   "execution_count": 21,
   "metadata": {},
   "outputs": [
    {
     "name": "stdout",
     "output_type": "stream",
     "text": [
      "값: None\n",
      "존재하지 않는 키에 접근했습니다.\n"
     ]
    }
   ],
   "source": [
    "#키가 존재하지 않을 때 none을 출력하는지 확인\n",
    "value = dic.get(\"age\")\n",
    "print(\"값:\", value)\n",
    "\n",
    "if value == None:\n",
    "    print(\"존재하지 않는 키에 접근했습니다.\")"
   ]
  },
  {
   "cell_type": "code",
   "execution_count": 22,
   "metadata": {},
   "outputs": [
    {
     "name": "stdout",
     "output_type": "stream",
     "text": [
      "name : leekyoohyun\n",
      "school : hanyang university\n",
      "major : Applied physics\n",
      "residence : Miguem\n",
      "friend : kohyourim\n"
     ]
    }
   ],
   "source": [
    "#for 반복문과 딕셔너리\n",
    "for key in dic:\n",
    "    print(key, \":\", dic[key])"
   ]
  },
  {
   "cell_type": "markdown",
   "metadata": {},
   "source": [
    "p227 - 229"
   ]
  },
  {
   "cell_type": "code",
   "execution_count": 27,
   "metadata": {},
   "outputs": [
    {
     "name": "stdout",
     "output_type": "stream",
     "text": [
      "# 우리 동네 애완 동물들\n",
      "구름 5살\n",
      "초코 3살\n",
      "아지 1살\n",
      "호랑이 1살\n"
     ]
    }
   ],
   "source": [
    "#2\n",
    "pets = [\n",
    "    {\"name\" : \"구름\", \"age\" : 5},\n",
    "    {\"name\" : \"초코\", \"age\" : 3},\n",
    "    {\"name\" : \"아지\", \"age\" : 1},\n",
    "    {\"name\" : \"호랑이\", \"age\" : 1}\n",
    "]\n",
    "\n",
    "print(\"# 우리 동네 애완 동물들\")\n",
    "\n",
    "for pet in pets:\n",
    "    print(pet[\"name\"], str(pet[\"age\"]) + \"살\")"
   ]
  },
  {
   "cell_type": "code",
   "execution_count": 31,
   "metadata": {},
   "outputs": [
    {
     "name": "stdout",
     "output_type": "stream",
     "text": [
      "{1: 4, 2: 4, 3: 7, 4: 5, 5: 3, 6: 1}\n"
     ]
    }
   ],
   "source": [
    "#3\n",
    "numbers = [1, 2, 3, 4, 5, 3, 4, 3, 2, 5, 3, 4, 3, 1, 2, 6, 4, 5, 3, 2, 4, 3, 1, 1]\n",
    "counter = {}\n",
    "\n",
    "for number in numbers:\n",
    "    if number in counter:\n",
    "        counter[number] = counter[number] + 1\n",
    "    else:\n",
    "        counter[number] = 1\n",
    "\n",
    "\n",
    "print(counter)"
   ]
  },
  {
   "cell_type": "code",
   "execution_count": 33,
   "metadata": {},
   "outputs": [
    {
     "name": "stdout",
     "output_type": "stream",
     "text": [
      "name : 기사\n",
      "lavel : 12\n",
      "sword : 불꽃의 검\n",
      "armor : 폴플레이트\n",
      "skill : 베기\n",
      "skill : 세게 베기\n",
      "skill : 아주 세게 베기\n"
     ]
    }
   ],
   "source": [
    "#4\n",
    "cha = {\n",
    "    \"name\" : \"기사\",\n",
    "    \"lavel\" : 12,\n",
    "    \"items\" : {\n",
    "        \"sword\" : \"불꽃의 검\",\n",
    "        \"armor\" : \"폴플레이트\"\n",
    "    },\n",
    "    \"skill\" : [\"베기\", \"세게 베기\", \"아주 세게 베기\"]\n",
    "}\n",
    "\n",
    "for key in cha:\n",
    "    if type(cha[key]) is dict:\n",
    "            for small_key in cha[key]:\n",
    "                print(small_key, \":\", cha[key][small_key])\n",
    "    elif type(cha[key]) is list:\n",
    "         for item in cha[key]:\n",
    "              print(key, \":\", item)\n",
    "    else:\n",
    "         print(key, \":\", cha[key])"
   ]
  },
  {
   "cell_type": "markdown",
   "metadata": {},
   "source": [
    "### 04-3 범위 자료형과 while 반복문"
   ]
  },
  {
   "cell_type": "code",
   "execution_count": 34,
   "metadata": {},
   "outputs": [
    {
     "ename": "TypeError",
     "evalue": "'float' object cannot be interpreted as an integer",
     "output_type": "error",
     "traceback": [
      "\u001b[0;31m---------------------------------------------------------------------------\u001b[0m",
      "\u001b[0;31mTypeError\u001b[0m                                 Traceback (most recent call last)",
      "Cell \u001b[0;32mIn[34], line 2\u001b[0m\n\u001b[1;32m      1\u001b[0m n \u001b[38;5;241m=\u001b[39m \u001b[38;5;241m10\u001b[39m\n\u001b[0;32m----> 2\u001b[0m a \u001b[38;5;241m=\u001b[39m \u001b[38;5;28mrange\u001b[39m(\u001b[38;5;241m0\u001b[39m, n \u001b[38;5;241m/\u001b[39m \u001b[38;5;241m2\u001b[39m)\n",
      "\u001b[0;31mTypeError\u001b[0m: 'float' object cannot be interpreted as an integer"
     ]
    }
   ],
   "source": [
    "n = 10\n",
    "a = range(0, n / 2)"
   ]
  },
  {
   "cell_type": "code",
   "execution_count": 35,
   "metadata": {},
   "outputs": [
    {
     "data": {
      "text/plain": [
       "[0, 1, 2, 3, 4]"
      ]
     },
     "execution_count": 35,
     "metadata": {},
     "output_type": "execute_result"
    }
   ],
   "source": [
    "a = range(0, int(n/2))\n",
    "list(a)\n",
    "\n",
    "#이는 결과 type이 float로 실수여서 5.0이라는 결과가 나옴\n",
    "# -> int()로 강제 변환"
   ]
  },
  {
   "cell_type": "code",
   "execution_count": 36,
   "metadata": {},
   "outputs": [
    {
     "data": {
      "text/plain": [
       "[0, 1, 2, 3, 4]"
      ]
     },
     "execution_count": 36,
     "metadata": {},
     "output_type": "execute_result"
    }
   ],
   "source": [
    "a = range(0, n // 2)\n",
    "list(a)\n",
    "\n",
    "# 정수 나눗셈이라서 int type\n",
    "# -> int()로 변환할 필요 없이 바로 range() 사용 가능"
   ]
  },
  {
   "cell_type": "code",
   "execution_count": 37,
   "metadata": {},
   "outputs": [
    {
     "name": "stdout",
     "output_type": "stream",
     "text": [
      "0번쩨 반복: 273\n",
      "1번쩨 반복: 23\n",
      "2번쩨 반복: 104\n",
      "3번쩨 반복: 294\n",
      "4번쩨 반복: 52\n"
     ]
    }
   ],
   "source": [
    "#리스트와 범위 조합하여 사용\n",
    "array = [273, 23, 104, 294, 52]\n",
    "\n",
    "for i in range(len(array)):\n",
    "    print(\"{}번쩨 반복: {}\".format(i, array[i]))"
   ]
  },
  {
   "cell_type": "code",
   "execution_count": 38,
   "metadata": {},
   "outputs": [
    {
     "name": "stdout",
     "output_type": "stream",
     "text": [
      "현재 반복 변수: 4\n",
      "현재 반복 변수: 3\n",
      "현재 반복 변수: 2\n",
      "현재 반복 변수: 1\n",
      "현재 반복 변수: 0\n"
     ]
    }
   ],
   "source": [
    "#반대로 반복하기1\n",
    "for i in range(4, -1, -1):\n",
    "    print(f\"현재 반복 변수: {i}\")"
   ]
  },
  {
   "cell_type": "code",
   "execution_count": 40,
   "metadata": {},
   "outputs": [
    {
     "name": "stdout",
     "output_type": "stream",
     "text": [
      "현재 반복 변수: 4\n",
      "현재 반복 변수: 3\n",
      "현재 반복 변수: 2\n",
      "현재 반복 변수: 1\n",
      "현재 반복 변수: 0\n"
     ]
    }
   ],
   "source": [
    "#반대로 반복하기 2\n",
    "for i in reversed(range(5)):\n",
    "    print(f\"현재 반복 변수: {i}\")"
   ]
  },
  {
   "cell_type": "code",
   "execution_count": 44,
   "metadata": {},
   "outputs": [
    {
     "name": "stdout",
     "output_type": "stream",
     "text": [
      "*\n",
      "**\n",
      "***\n",
      "****\n",
      "*****\n",
      "******\n",
      "*******\n",
      "********\n",
      "*********\n",
      "\n",
      "\n",
      "             *\n",
      "            ***\n",
      "           *****\n",
      "          *******\n",
      "         *********\n",
      "        ***********\n",
      "       *************\n",
      "      ***************\n",
      "     *****************\n",
      "    *******************\n",
      "   *********************\n",
      "  ***********************\n",
      " *************************\n",
      "***************************\n",
      "\n"
     ]
    }
   ],
   "source": [
    "# 반복문으로 피라미드 생성 \n",
    "# 1\n",
    "output = \"\"\n",
    "\n",
    "for i in range(1, 10):\n",
    "    for j in range(0, i):\n",
    "        output += \"*\"\n",
    "    output += \"\\n\"\n",
    "\n",
    "print(output)\n",
    "print()\n",
    "\n",
    "# 2\n",
    "output = \"\"\n",
    "for i in range(1, 15):\n",
    "    for j in range(14, i, -1):\n",
    "        output += ' '\n",
    "    for k in range(0, 2 * i -1):\n",
    "        output += '*'\n",
    "    output += '\\n'\n",
    "\n",
    "print(output)"
   ]
  },
  {
   "cell_type": "code",
   "execution_count": 45,
   "metadata": {},
   "outputs": [
    {
     "name": "stdout",
     "output_type": "stream",
     "text": [
      "0 번째 반복입니다.\n",
      "1 번째 반복입니다.\n",
      "2 번째 반복입니다.\n",
      "3 번째 반복입니다.\n",
      "4 번째 반복입니다.\n",
      "5 번째 반복입니다.\n",
      "6 번째 반복입니다.\n",
      "7 번째 반복입니다.\n",
      "8 번째 반복입니다.\n",
      "9 번째 반복입니다.\n"
     ]
    }
   ],
   "source": [
    "# while 반복문을 for 반복문처럼 사용\n",
    "i = 0\n",
    "\n",
    "while i < 10:\n",
    "    print(f\"{i} 번째 반복입니다.\")\n",
    "    i += 1"
   ]
  },
  {
   "cell_type": "code",
   "execution_count": 46,
   "metadata": {},
   "outputs": [
    {
     "name": "stdout",
     "output_type": "stream",
     "text": [
      "[1, 1]\n"
     ]
    }
   ],
   "source": [
    "# while: 해당하는 값 모두 제거하기\n",
    "list_test = [1, 2, 1, 2]\n",
    "value = 2\n",
    "\n",
    "while value in list_test:\n",
    "    list_test.remove(2)\n",
    "\n",
    "print(list_test)"
   ]
  },
  {
   "cell_type": "code",
   "execution_count": 51,
   "metadata": {},
   "outputs": [
    {
     "name": "stdout",
     "output_type": "stream",
     "text": [
      "5초 동안 97476913번 반복했습니다.\n"
     ]
    }
   ],
   "source": [
    "import time\n",
    "\n",
    "number = 0\n",
    "\n",
    "target_tick = time.time() + 5\n",
    "while time.time() < target_tick:\n",
    "    number += 1\n",
    "\n",
    "print(f\"5초 동안 {number}번 반복했습니다.\")"
   ]
  },
  {
   "cell_type": "code",
   "execution_count": null,
   "metadata": {},
   "outputs": [
    {
     "name": "stdout",
     "output_type": "stream",
     "text": [
      "0번째 반복문입니다.\n",
      "n\n",
      "1번째 반복문입니다.\n",
      "n\n",
      "2번째 반복문입니다.\n",
      "n\n",
      "3번째 반복문입니다.\n",
      "y\n",
      "4번째 반복문입니다.\n",
      "y\n",
      "5번째 반복문입니다.\n",
      "\n",
      "6번째 반복문입니다.\n",
      "y\n",
      "7번째 반복문입니다.\n",
      "n\n",
      "8번째 반복문입니다.\n",
      "\n",
      "9번째 반복문입니다.\n",
      "\n",
      "10번째 반복문입니다.\n",
      "\n",
      "11번째 반복문입니다.\n",
      "\n",
      "12번째 반복문입니다.\n",
      "\n",
      "13번째 반복문입니다.\n",
      "\n",
      "14번째 반복문입니다.\n",
      "\n",
      "15번째 반복문입니다.\n"
     ]
    }
   ],
   "source": [
    "#while: break 키워드\n",
    "i = 0\n",
    "\n",
    "while True:\n",
    "    print(f\"{i}번째 반복문입니다.\")\n",
    "    i += 1\n",
    "\n",
    "    input_text = print(input(\">종료하y시겠습니까? (y/n): \"))\n",
    "    if input_text in [\"y\", \"Y\"]:\n",
    "        print(\"반복을 종료하겠습니다.\")\n",
    "        break"
   ]
  },
  {
   "cell_type": "code",
   "execution_count": 5,
   "metadata": {},
   "outputs": [
    {
     "name": "stdout",
     "output_type": "stream",
     "text": [
      "15\n",
      "20\n",
      "25\n",
      "\n",
      "15\n",
      "20\n",
      "25\n"
     ]
    }
   ],
   "source": [
    "# while: continue 키워드\n",
    "numbers = [5, 15, 6, 20, 7, 25]\n",
    "\n",
    "for number in numbers:\n",
    "    if number < 10:\n",
    "        continue\n",
    "    print(number)\n",
    "\n",
    "print()\n",
    "\n",
    "# continue 키워드 사용하지 않은 경우\n",
    "for number in numbers:\n",
    "    if number >= 10:\n",
    "        print(number)"
   ]
  },
  {
   "cell_type": "markdown",
   "metadata": {},
   "source": [
    "p247 - 249"
   ]
  },
  {
   "cell_type": "code",
   "execution_count": 11,
   "metadata": {},
   "outputs": [
    {
     "name": "stdout",
     "output_type": "stream",
     "text": [
      "{'name': '기사', 'hp': 200, 'mp': 40, 'level': 5}\n"
     ]
    }
   ],
   "source": [
    "# 2\n",
    "key_list = [\"name\", \"hp\", \"mp\", \"level\"]\n",
    "value_list = [\"기사\", 200, 40, 5]\n",
    "character = {}\n",
    "\n",
    "for i in range(0, len(key_list)):\n",
    "    character[key_list[i]] = value_list[i]\n",
    "\n",
    "print(character)"
   ]
  },
  {
   "cell_type": "code",
   "execution_count": 14,
   "metadata": {},
   "outputs": [
    {
     "name": "stdout",
     "output_type": "stream",
     "text": [
      "141를 더할 때 10000를 넘으며 그때의 값은 10011입닌다.\n"
     ]
    }
   ],
   "source": [
    "# 3\n",
    "limit = 10000\n",
    "i = 1\n",
    "sum_value = 0\n",
    "\n",
    "while sum_value < limit:\n",
    "    sum_value += i\n",
    "    i += 1\n",
    "\n",
    "print(f\"{i-1}를 더할 때 {limit}를 넘으며 그때의 값은 {sum_value}입닌다.\")"
   ]
  },
  {
   "cell_type": "code",
   "execution_count": 18,
   "metadata": {},
   "outputs": [
    {
     "name": "stdout",
     "output_type": "stream",
     "text": [
      "최대가 되는 경우: 50 * 50 = 2500\n"
     ]
    }
   ],
   "source": [
    "# 4\n",
    "max_value = 0\n",
    "a = 0\n",
    "b = 0\n",
    "\n",
    "for i in range(1, 100):\n",
    "    j = 100 - i\n",
    "\n",
    "    current = i * j\n",
    "    if max_value < current:\n",
    "        a = i\n",
    "        b = j\n",
    "        max_value = current\n",
    "\n",
    "print(f\"최대가 되는 경우: {a} * {b} = {max_value}\")\n",
    "\n",
    "# 51 * 49 이나 49 * 51 값은 동일하기 때문에 중복 계산할 필요 없삼"
   ]
  },
  {
   "cell_type": "markdown",
   "metadata": {},
   "source": [
    "### 04-4 문자열, 리스트, 딕셔너리와 관련된 기본 함수"
   ]
  },
  {
   "cell_type": "markdown",
   "metadata": {},
   "source": [
    "#### list"
   ]
  },
  {
   "cell_type": "code",
   "execution_count": 21,
   "metadata": {},
   "outputs": [
    {
     "name": "stdout",
     "output_type": "stream",
     "text": [
      "# reversed() Function\n",
      "reversed([1, 2, 3, 4, 5]):  <list_reverseiterator object at 0x10baf3e50>\n",
      "list(reversed([1, 2, 3, 4, 5])): [5, 4, 3, 2, 1]\n",
      "\n",
      "# reversed() 함수와 반복문\n",
      "for i in reversed([1, 2, 3, 4, 5]):\n",
      "- 5\n",
      "- 4\n",
      "- 3\n",
      "- 2\n",
      "- 1\n"
     ]
    }
   ],
   "source": [
    "# reversed() 함수\n",
    "list_a = [1, 2, 3, 4, 5]\n",
    "list_reversed = reversed(list_a)\n",
    "\n",
    "print(\"# reversed() Function\")\n",
    "print(\"reversed([1, 2, 3, 4, 5]): \", list_reversed)\n",
    "print(\"list(reversed([1, 2, 3, 4, 5])):\", list(list_reversed))\n",
    "print()\n",
    "\n",
    "print(\"# reversed() 함수와 반복문\")\n",
    "print(\"for i in reversed([1, 2, 3, 4, 5]):\")\n",
    "for i in reversed(list_a):\n",
    "    print(\"-\", i)"
   ]
  },
  {
   "cell_type": "code",
   "execution_count": 22,
   "metadata": {},
   "outputs": [
    {
     "name": "stdout",
     "output_type": "stream",
     "text": [
      "0번째 요소는 A입니다.\n",
      "1번째 요소는 B입니다.\n",
      "2번째 요소는 C입니다.\n"
     ]
    }
   ],
   "source": [
    "example_list = [\"A\", \"B\", \"C\"]\n",
    "i = 0\n",
    "\n",
    "for item in example_list:\n",
    "    print(f\"{i}번째 요소는 {item}입니다.\")\n",
    "    i  += 1"
   ]
  },
  {
   "cell_type": "code",
   "execution_count": 24,
   "metadata": {},
   "outputs": [
    {
     "name": "stdout",
     "output_type": "stream",
     "text": [
      "0번째 요소는 A입니다.\n",
      "1번째 요소는 B입니다.\n",
      "2번째 요소는 C입니다.\n"
     ]
    }
   ],
   "source": [
    "example_list = [\"A\", \"B\", \"C\"]\n",
    "\n",
    "for i in range(len(example_list)):\n",
    "    print(f\"{i}번째 요소는 {example_list[i]}입니다.\")"
   ]
  },
  {
   "cell_type": "code",
   "execution_count": 25,
   "metadata": {},
   "outputs": [
    {
     "name": "stdout",
     "output_type": "stream",
     "text": [
      "# 단순 출력\n",
      "['A', 'B', 'C']\n",
      "\n",
      "# enumerate() 함수 적용 출력\n",
      "<enumerate object at 0x10c6e8130>\n",
      "\n",
      "# list() 함수로 강제 변환 출력\n",
      "[(0, 'A'), (1, 'B'), (2, 'C')]\n",
      "\n",
      "# 반복문과 조합하기\n",
      "0번째 요소는 A입니다.\n",
      "1번째 요소는 B입니다.\n",
      "2번째 요소는 C입니다.\n"
     ]
    }
   ],
   "source": [
    "# enumerate() 함수와 리스트\n",
    "example_list = [\"A\", \"B\", \"C\"]\n",
    "\n",
    "print(\"# 단순 출력\")\n",
    "print(example_list)\n",
    "print()\n",
    "\n",
    "print(\"# enumerate() 함수 적용 출력\")\n",
    "print(enumerate(example_list))\n",
    "print()\n",
    "\n",
    "print(\"# list() 함수로 강제 변환 출력\")\n",
    "print(list(enumerate(example_list)))\n",
    "print()\n",
    "\n",
    "print(\"# 반복문과 조합하기\")\n",
    "for i, value in enumerate(example_list):\n",
    "    print(f\"{i}번째 요소는 {value}입니다.\")"
   ]
  },
  {
   "cell_type": "code",
   "execution_count": 29,
   "metadata": {},
   "outputs": [
    {
     "name": "stdout",
     "output_type": "stream",
     "text": [
      "[0, 4, 16, 36, 64, 100, 144, 196, 256, 324]\n"
     ]
    }
   ],
   "source": [
    "# 반복문을 사용한 리스트 생성\n",
    "array = []\n",
    "\n",
    "for i in range(0, 20, 2):\n",
    "    array.append(i * i)\n",
    "\n",
    "print(array)"
   ]
  },
  {
   "cell_type": "code",
   "execution_count": 30,
   "metadata": {},
   "outputs": [
    {
     "name": "stdout",
     "output_type": "stream",
     "text": [
      "[0, 4, 16, 36, 64, 100, 144, 196, 256, 324]\n"
     ]
    }
   ],
   "source": [
    "# 리스트 안에 for 문 사용하기\n",
    "array = [i * i for i in range(0, 20, 2)]\n",
    "\n",
    "print(array)"
   ]
  },
  {
   "cell_type": "code",
   "execution_count": 32,
   "metadata": {},
   "outputs": [
    {
     "name": "stdout",
     "output_type": "stream",
     "text": [
      "['사과', '포도', '자두', '바나나', '체리']\n"
     ]
    }
   ],
   "source": [
    "# 조건을 활용한 리스트 내포\n",
    "array = [\"사과\", \"포도\", \"자두\", \"초콜릿\", \"바나나\", \"체리\"]\n",
    "output = [fruit \n",
    "          for fruit in array \n",
    "          if fruit != \"초콜릿\"\n",
    "        ]\n",
    "\n",
    "print(output)"
   ]
  },
  {
   "cell_type": "markdown",
   "metadata": {},
   "source": [
    "#### dictionary"
   ]
  },
  {
   "cell_type": "code",
   "execution_count": 28,
   "metadata": {},
   "outputs": [
    {
     "name": "stdout",
     "output_type": "stream",
     "text": [
      "# 딕셔너리의 items() 함수\n",
      "items(): dict_items([('A', 'a'), ('B', 'b'), ('C', 'c')])\n",
      "\n",
      "# 딕셔너리의 items() 함수와 반복문 조합하기\n",
      "dictionary[A] = a\n",
      "dictionary[B] = b\n",
      "dictionary[C] = c\n"
     ]
    }
   ],
   "source": [
    "# 딕셔너리의 items() 함수와 반복문\n",
    "example_dic = {\n",
    "    \"A\" : \"a\",\n",
    "    \"B\" : \"b\",\n",
    "    \"C\" : \"c\"\n",
    "}\n",
    "\n",
    "print(\"# 딕셔너리의 items() 함수\")\n",
    "print(\"items():\", example_dic.items())\n",
    "print()\n",
    "\n",
    "print(\"# 딕셔너리의 items() 함수와 반복문 조합하기\")\n",
    "\n",
    "for key, value in example_dic.items():\n",
    "    print(f\"dictionary[{key}] = {value}\")"
   ]
  },
  {
   "cell_type": "markdown",
   "metadata": {},
   "source": [
    "p260 - 264"
   ]
  },
  {
   "cell_type": "code",
   "execution_count": 39,
   "metadata": {},
   "outputs": [
    {
     "name": "stdout",
     "output_type": "stream",
     "text": [
      "        입력한 문자열은 89입니다.\n",
      "        89는 홀수입니다.\n",
      "        \n"
     ]
    }
   ],
   "source": [
    "# if 조건문과 여러 줄 문자열\n",
    "number = int(input(\"정수 입력: \"))\n",
    "\n",
    "if number % 2 == 0:\n",
    "    print(f\"\"\"\\\n",
    "    입력한 문자열은 {number}입니다.\n",
    "    {number}는 짝수입니다.\n",
    "    \"\"\")\n",
    "else:\n",
    "    print(\n",
    "        f\"\"\"\\\n",
    "        입력한 문자열은 {number}입니다.\n",
    "        {number}는 홀수입니다.\n",
    "        \"\"\"\n",
    "    )"
   ]
  },
  {
   "cell_type": "code",
   "execution_count": 43,
   "metadata": {},
   "outputs": [
    {
     "name": "stdout",
     "output_type": "stream",
     "text": [
      "입력한 문자열은 19입니다.\n",
      "19는 홀수입니다.\n"
     ]
    }
   ],
   "source": [
    "# if 조건문과 긴 문자열\n",
    "number = int(input(\"정수 입력: \"))\n",
    "\n",
    "if number % 2 == 0:\n",
    "    print(f\"입력한 문자열은 {number}입니다.\\n{number}는 짝수입니다.\")\n",
    "else:\n",
    "    print(f\"입력한 문자열은 {number}입니다.\\n{number}는 홀수입니다.\")"
   ]
  },
  {
   "cell_type": "markdown",
   "metadata": {},
   "source": [
    "p266 - 270"
   ]
  },
  {
   "cell_type": "code",
   "execution_count": 48,
   "metadata": {},
   "outputs": [
    {
     "name": "stdout",
     "output_type": "stream",
     "text": [
      "2 : 10\n",
      "5 : 101\n",
      "6 : 110\n",
      "11 : 1011\n",
      "13 : 1101\n",
      "14 : 1110\n",
      "23 : 10111\n",
      "27 : 11011\n",
      "29 : 11101\n",
      "30 : 11110\n",
      "47 : 101111\n",
      "55 : 110111\n",
      "59 : 111011\n",
      "61 : 111101\n",
      "62 : 111110\n",
      "95 : 1011111\n",
      "합계: 539\n"
     ]
    }
   ],
   "source": [
    "# 2 - list comprehension 사용해서\n",
    "output = [\n",
    "    i for i in range(1, 101)\n",
    "    if \"{:b}\".format(i).count(\"0\") == 1\n",
    "]\n",
    "\n",
    "for i in output:\n",
    "    print(f\"{i} : {\"{:b}\".format(i)}\")\n",
    "print(\"합계:\", sum(output))"
   ]
  },
  {
   "cell_type": "code",
   "execution_count": 53,
   "metadata": {},
   "outputs": [
    {
     "name": "stdout",
     "output_type": "stream",
     "text": [
      "{1: 4, 2: 3, 3: 3, 4: 2}\n"
     ]
    }
   ],
   "source": [
    "# 1 숫자의 종류 - 딕셔너리 사용해서\n",
    "numbers = [1, 2, 3, 4, 1, 2, 3, 1, 4, 1, 2, 3]\n",
    "counter = {}\n",
    "\n",
    "for number in numbers:\n",
    "    if number in counter:\n",
    "        counter[number] = counter[number] + 1\n",
    "    else:\n",
    "        counter[number] = 1\n",
    "\n",
    "\n",
    "print(counter)"
   ]
  },
  {
   "cell_type": "code",
   "execution_count": 6,
   "metadata": {},
   "outputs": [
    {
     "name": "stdout",
     "output_type": "stream",
     "text": [
      "a의 개수: 9\n",
      "c의 개수: 9\n",
      "t의 개수: 9\n",
      "g의 개수: 6\n"
     ]
    }
   ],
   "source": [
    "# 2 염기의 개수 - 반복문을 사용하여 염기 숫자 세기\n",
    "# 염기 서열 입력 \"ctacaatgtcagtatacccattgcattagccgg\"\n",
    "dna = input(\"염기 서열을 입력해주세요\")\n",
    "\n",
    "counter = {\n",
    "    \"a\" : 0,\n",
    "    \"c\" : 0,\n",
    "    \"t\" : 0,\n",
    "    \"g\" : 0\n",
    "}\n",
    "\n",
    "for component in dna:\n",
    "    counter[component] += 1\n",
    "\n",
    "for key in counter:\n",
    "    print(f\"{key}의 개수: {counter[key]}\")"
   ]
  },
  {
   "cell_type": "code",
   "execution_count": 9,
   "metadata": {},
   "outputs": [
    {
     "name": "stdout",
     "output_type": "stream",
     "text": [
      "{'cta': 1, 'caa': 1, 'tgt': 1, 'cag': 1, 'tat': 1, 'acc': 1, 'cat': 1, 'tgc': 1, 'att': 1, 'agc': 1, 'cgg': 1}\n"
     ]
    }
   ],
   "source": [
    "dna = input(\"염기 서열을 입력해주세요:\")\n",
    "counter = {}\n",
    "\n",
    "for i in range(0, len(dna), 3):\n",
    "    codon = dna[i:i+3]\n",
    "    if len(codon) == 3:\n",
    "        if codon not in counter:\n",
    "            counter[codon] = 0\n",
    "        counter[codon] += 1\n",
    "\n",
    "print(counter)\n"
   ]
  },
  {
   "cell_type": "code",
   "execution_count": 11,
   "metadata": {},
   "outputs": [
    {
     "name": "stdout",
     "output_type": "stream",
     "text": [
      "[1, 2, [3, 4], 5, [6, 7], [8, 9]]를 평탄화하면 \n",
      "[3, 4, [3, 4], 6, 7, [6, 7], 8, 9, [8, 9]]입니다.\n"
     ]
    }
   ],
   "source": [
    "# 4 2차원 리스트 평탄화 - type() 사용해서\n",
    "a = [1, 2, [3, 4], 5, [6, 7], [8, 9]]\n",
    "output = []\n",
    "\n",
    "for b in a:\n",
    "    if type(b) == list:\n",
    "        for c in b:\n",
    "            output.append(c)\n",
    "        else:\n",
    "            output.append(b)\n",
    "\n",
    "print(f\"{a}를 평탄화하면 \\n{output}입니다.\")"
   ]
  },
  {
   "cell_type": "code",
   "execution_count": null,
   "metadata": {},
   "outputs": [],
   "source": []
  }
 ],
 "metadata": {
  "kernelspec": {
   "display_name": "base",
   "language": "python",
   "name": "python3"
  },
  "language_info": {
   "codemirror_mode": {
    "name": "ipython",
    "version": 3
   },
   "file_extension": ".py",
   "mimetype": "text/x-python",
   "name": "python",
   "nbconvert_exporter": "python",
   "pygments_lexer": "ipython3",
   "version": "3.12.7"
  }
 },
 "nbformat": 4,
 "nbformat_minor": 2
}
